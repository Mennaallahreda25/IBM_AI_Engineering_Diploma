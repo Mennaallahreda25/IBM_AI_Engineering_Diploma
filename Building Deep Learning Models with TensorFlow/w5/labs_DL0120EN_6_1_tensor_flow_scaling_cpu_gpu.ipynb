{
  "cells": [
    {
      "cell_type": "markdown",
      "metadata": {
        "id": "12a46dcc-0d3d-4392-9f28-5f297ad97253"
      },
      "source": [
        "<img src=\"https://cf-courses-data.s3.us.cloud-object-storage.appdomain.cloud/IBMDeveloperSkillsNetwork-DL0120EN-SkillsNetwork/images/IDSN-logo.png\" width=\"300\" alt=\"cognitiveclass.ai logo\">\n"
      ]
    },
    {
      "cell_type": "markdown",
      "metadata": {
        "id": "4cc68721-4edb-4f54-b67c-7659c9fe87ba"
      },
      "source": [
        "# Lab: Scaling on CPU and GPU\n",
        "\n",
        "Welcome to the lab, first we wanna make sure we are on TensorFlow 2.x\n",
        "\n",
        "Please start with 1 vCPU and then use 2, 4, 8 and 16 (and optionally 1 or 2 GPUs)\n",
        "\n",
        "Note down execution times and compute/plot scale up factor\n"
      ]
    },
    {
      "cell_type": "code",
      "metadata": {
        "id": "a5faff85-e35d-4a1f-bac3-bb32d1ca3222"
      },
      "outputs": [],
      "source": [
        "!pip install tensorflow==2.2.0"
      ],
      "execution_count": null
    },
    {
      "cell_type": "code",
      "metadata": {
        "id": "05041030-1e38-48f9-b972-7e7ac5f94c5a"
      },
      "outputs": [],
      "source": [
        "import tensorflow as tf\n",
        "import time\n",
        "import numpy as np\n",
        "print(tf.__version__)\n",
        "\n",
        "\n",
        "\n",
        "from IPython.display import Markdown, display\n",
        "def printmd(string):\n",
        "    display(Markdown('# <span style=\"color:red\">'+string+'</span>'))\n",
        "\n",
        "\n",
        "if not tf.__version__ == '2.2.0':\n",
        "    printmd('<<<<<!!!!! Please install TensorFlow 2.2.0 and PLEASE RESTART the jupyter kernel using the menue above !!!!!>>>>>')\n",
        "\n"
      ],
      "execution_count": null
    },
    {
      "cell_type": "markdown",
      "metadata": {
        "id": "0b6ddcbb-249c-484b-a683-98fada2d7f64"
      },
      "source": [
        "Let's check out if there are GPUs available\n"
      ]
    },
    {
      "cell_type": "code",
      "metadata": {
        "id": "666a19a0-23e1-405a-8f2a-549529e34d6b"
      },
      "outputs": [],
      "source": [
        "if len(tf.config.experimental.list_physical_devices('GPU')) > 0:\n",
        "    print('GPUs found, this will be fun!')"
      ],
      "execution_count": null
    },
    {
      "cell_type": "markdown",
      "metadata": {
        "id": "6cae5cbe-ae48-4869-9e88-11046562f86c"
      },
      "source": [
        "Let's create some data (e.g. two random matrices of shape 10000x10000)\n"
      ]
    },
    {
      "cell_type": "code",
      "metadata": {
        "id": "12094522-7ba9-4889-aed2-8f382542de0a"
      },
      "outputs": [],
      "source": [
        "size = 10000\n",
        "a = tf.random.uniform(shape=[size,size])\n",
        "b = tf.random.uniform(shape=[size,size])"
      ],
      "execution_count": null
    },
    {
      "cell_type": "markdown",
      "metadata": {
        "id": "4cccccd1-18e4-45f5-89d1-72cabcca4da2"
      },
      "source": [
        "Let's multiply them together and measure time (execute the following cell at least 3 times and take the minimum to account for cache misses). Please run this notebook in different runtimes configurations to get the execution times.\n"
      ]
    },
    {
      "cell_type": "markdown",
      "metadata": {
        "id": "c3fac69c-35fc-4129-ae08-cf72fd02bf19"
      },
      "source": [
        "To change the execution environment configuration please click on the ![image.png](attachment:image.png) symbol within Watson Studio. In the \"Environment\" tab you can choose and change the \"Environment definition\".\n"
      ]
    },
    {
      "cell_type": "markdown",
      "metadata": {
        "id": "fb545dbb-eb9c-4afc-84da-787658359e25"
      },
      "source": [
        "We recommend that you go the the \"Environment\" tab in the Watson Studio Project settings and create the environments first ![image.png](attachment:image.png)\n"
      ]
    },
    {
      "cell_type": "markdown",
      "metadata": {
        "id": "57eb13fa-54db-48d0-a905-988e49680bcb"
      },
      "source": [
        "Once done, it should look similar to this\n",
        "![image.png](attachment:image.png)\n"
      ]
    },
    {
      "cell_type": "code",
      "metadata": {
        "id": "0f54c922-dbca-437e-89f2-de4600ef2e0f"
      },
      "outputs": [],
      "source": [
        "start = time.time()\n",
        "c = tf.matmul(a,b)\n",
        "print(time.time()-start)"
      ],
      "execution_count": null
    },
    {
      "cell_type": "markdown",
      "metadata": {
        "id": "0f079954-5ece-4fb4-9fa5-544c137461ed"
      },
      "source": [
        "Please update the execution times below for the different runtime configurations with your values (1,2,4,8,16 CPU, optional 1,2,4 GPU)\n"
      ]
    },
    {
      "cell_type": "code",
      "metadata": {
        "id": "1860bbda-6da8-4edf-afc3-2c0c40e26430"
      },
      "outputs": [],
      "source": [
        "execution_times_cpu = {\n",
        "    'cpu_1x' : 35.3118622303009,\n",
        "    'cpu_2x' : 15.228885173797607,\n",
        "    'cpu_4x' : 10.392901182174683,\n",
        "    'cpu_8x' : 6.591029644012451,\n",
        "    'cpu_16x' : 2.9781200885772705\n",
        "}\n",
        "execution_times_cpu"
      ],
      "execution_count": null
    },
    {
      "cell_type": "code",
      "metadata": {
        "id": "0631e3dd-7163-47f7-bcf0-c68bd264d529"
      },
      "outputs": [],
      "source": [
        "execution_times_gpu = {\n",
        "    'gpu_1x' : 0.0012249946594238281,\n",
        "    'gpu_2x' : 0.0007076263427734375,\n",
        "    'gpu_4x' : 0.0006804466247558594\n",
        "}\n",
        "execution_times_gpu"
      ],
      "execution_count": null
    },
    {
      "cell_type": "markdown",
      "metadata": {
        "id": "6eb7dec2-05fe-4465-a22f-dacde1450757"
      },
      "source": [
        "Merge CPU and GPU results\n"
      ]
    },
    {
      "cell_type": "code",
      "metadata": {
        "id": "22814248-8675-4312-81fd-c59efc96c180"
      },
      "outputs": [],
      "source": [
        "execution_times_cpu_gpu = {}\n",
        "execution_times_cpu_gpu.update(execution_times_cpu)\n",
        "execution_times_cpu_gpu.update(execution_times_gpu)\n",
        "execution_times_cpu_gpu"
      ],
      "execution_count": null
    },
    {
      "cell_type": "markdown",
      "metadata": {
        "id": "8a53f900-f65b-4052-9ee7-4a9fb299004b"
      },
      "source": [
        "Compute normalized speedup factors for CPU, GPU and combindes runs\n"
      ]
    },
    {
      "cell_type": "code",
      "metadata": {
        "id": "2eb19791-57be-4586-8224-e9bbaeb4fad7"
      },
      "outputs": [],
      "source": [
        "max_time_cpu = np.max(list(execution_times_cpu.values()))\n",
        "max_time_gpu = np.max(list(execution_times_gpu.values()))\n",
        "max_time_cpu_gpu = np.max(list(execution_times_cpu_gpu.values()))"
      ],
      "execution_count": null
    },
    {
      "cell_type": "code",
      "metadata": {
        "id": "afe39765-5d72-41cc-a9d8-1b90e9856cf4"
      },
      "outputs": [],
      "source": [
        "execution_times_norm_cpu = np.array(1)/(np.array(list(execution_times_cpu.values()))/max_time_cpu)\n",
        "execution_times_norm_gpu = np.array(1)/(np.array(list(execution_times_gpu.values()))/max_time_gpu)\n",
        "execution_times_norm_cpu_gpu = np.array(1)/(np.array(list(execution_times_cpu_gpu.values()))/max_time_cpu_gpu)"
      ],
      "execution_count": null
    },
    {
      "cell_type": "markdown",
      "metadata": {
        "id": "d6368532-eba9-497d-9579-4a67ce1e4936"
      },
      "source": [
        "Plot the results\n"
      ]
    },
    {
      "cell_type": "code",
      "metadata": {
        "id": "f2ffa23c-c778-4e6a-9c6b-0e62a5df15d1"
      },
      "outputs": [],
      "source": [
        "%matplotlib inline\n",
        "import seaborn as sns\n",
        "sns.barplot(x=np.array(list(execution_times_cpu.keys())), y=execution_times_norm_cpu).set(ylabel='speedup')"
      ],
      "execution_count": null
    },
    {
      "cell_type": "code",
      "metadata": {
        "id": "530ede63-724d-4c04-bac4-14d106ee596b"
      },
      "outputs": [],
      "source": [
        "sns.barplot(x=np.array(list(execution_times_gpu.keys())), y=execution_times_norm_gpu).set(ylabel='speedup')"
      ],
      "execution_count": null
    },
    {
      "cell_type": "code",
      "metadata": {
        "id": "918887b3-97e9-494b-8ef5-937733fa4485"
      },
      "outputs": [],
      "source": [
        "sns.barplot(x=np.array(list(execution_times_cpu_gpu.keys())), y=execution_times_norm_cpu_gpu).set(ylabel='speedup')"
      ],
      "execution_count": null
    },
    {
      "cell_type": "markdown",
      "metadata": {
        "id": "130d9ffd-9519-4e1c-99f2-d925c1871b99"
      },
      "source": [
        "As you can clearly see going from a single CPU core to a single GPU gives us a speedup of more than four orders of magnitude. So large scale deep learning network training has to be done on GPUs if possible\n"
      ]
    }
  ],
  "metadata": {
    "kernelspec": {
      "display_name": "Python",
      "language": "python",
      "name": "conda-env-python-py"
    },
    "language_info": {
      "name": ""
    },
    "colab": {
      "provenance": []
    }
  },
  "nbformat": 4,
  "nbformat_minor": 0
}